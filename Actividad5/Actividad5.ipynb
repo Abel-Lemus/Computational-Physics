{
 "cells": [
  {
   "cell_type": "code",
   "execution_count": 19,
   "metadata": {},
   "outputs": [],
   "source": [
    "#Necesitamos las sig. librerias\n",
    "import pandas as pd\n",
    "import numpy as np\n",
    "import matplotlib.pyplot as plt"
   ]
  },
  {
   "cell_type": "code",
   "execution_count": 20,
   "metadata": {},
   "outputs": [],
   "source": [
    "#Se lee el archivo\n",
    "df9 = pd.read_csv('datos.txt', skiprows=0, sep='\\s+')"
   ]
  },
  {
   "cell_type": "code",
   "execution_count": 21,
   "metadata": {},
   "outputs": [],
   "source": [
    "#Se crea el data frame \n",
    "df9 = pd.DataFrame(df9)"
   ]
  },
  {
   "cell_type": "code",
   "execution_count": 22,
   "metadata": {},
   "outputs": [],
   "source": [
    "#Se vuelven los valores numericos\n",
    "cols = ['PRECIP', 'EVAP', 'TMAX', 'TMIN']\n",
    "df9[cols] = df9[cols].apply(pd.to_numeric, errors='coerce', axis=1)\n",
    "df9['FECHA'] = pd.to_datetime(df9.apply(lambda x: x['FECHA'], 1), dayfirst=True)"
   ]
  },
  {
   "cell_type": "code",
   "execution_count": 23,
   "metadata": {},
   "outputs": [],
   "source": [
    "#Se crean columnas del mes y del año por separado\n",
    "df9['MES'] = df9['FECHA'].dt.month\n",
    "df9['AÑO'] = df9['FECHA'].dt.year\n",
    "df9['DIA'] = df9['FECHA'].dt.day"
   ]
  },
  {
   "cell_type": "code",
   "execution_count": null,
   "metadata": {},
   "outputs": [],
   "source": [
    "#Se calcula el índice FD --------> Número de días por año donde la Tmin<0\n",
    "#Se excluyen los datos donde la TMIN es mayor que 0 y se da una tabla con los datos\n",
    "dfFD = df9[df9.TMIN < 0]\n",
    "#Se re-define la columna dfFD como únicamente los datos de las columnas que nos importan  \n",
    "dfFD = dfFD[['TMIN','AÑO']]\n",
    "#Se redifine dfFD como la frecuencia de los años que sería el número de días frios durante la toma de datos  \n",
    "dfFD = dfFD.groupby('AÑO').count()\n",
    "##dfFD.groupby('AÑO').size().plot(kind='bar') -----> May work in another case but in this one is pretty  much useless \n",
    "#Se vuelve un integer los index\n",
    "dfFD.index = dfFD.index.astype(int)\n",
    "#Se gráfica dfFD \n",
    "dfFD.plot()"
   ]
  }
 ],
 "metadata": {
  "kernelspec": {
   "display_name": "Python 3",
   "language": "python",
   "name": "python3"
  },
  "language_info": {
   "codemirror_mode": {
    "name": "ipython",
    "version": 3
   },
   "file_extension": ".py",
   "mimetype": "text/x-python",
   "name": "python",
   "nbconvert_exporter": "python",
   "pygments_lexer": "ipython3",
   "version": "3.7.1"
  }
 },
 "nbformat": 4,
 "nbformat_minor": 2
}
